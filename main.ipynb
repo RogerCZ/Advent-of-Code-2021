{
 "cells": [
  {
   "cell_type": "code",
   "execution_count": 2,
   "metadata": {
    "collapsed": true,
    "pycharm": {
     "name": "#%%\n"
    }
   },
   "outputs": [],
   "source": [
    "import numpy as np"
   ]
  },
  {
   "cell_type": "code",
   "execution_count": 3,
   "metadata": {
    "pycharm": {
     "name": "#%%\n"
    }
   },
   "outputs": [
    {
     "data": {
      "text/plain": "1446"
     },
     "execution_count": 3,
     "metadata": {},
     "output_type": "execute_result"
    }
   ],
   "source": [
    "# Day 1.1\n",
    "\n",
    "f = open(\"1_1.txt\", \"r\")\n",
    "array = np.array(f.readlines(), dtype=int)\n",
    "f.close()\n",
    "\n",
    "count = 0\n",
    "for i in range(1, array.size):\n",
    "    if array[i-1] < array[i]:\n",
    "        count += 1\n",
    "count"
   ]
  },
  {
   "cell_type": "code",
   "execution_count": 4,
   "outputs": [
    {
     "data": {
      "text/plain": "1486"
     },
     "execution_count": 4,
     "metadata": {},
     "output_type": "execute_result"
    }
   ],
   "source": [
    "# Day 1.2\n",
    "\n",
    "count = 0\n",
    "for i in range(3, array.size):\n",
    "    if np.sum(array[i-3:i]) < np.sum(array[i-2:i+1]):\n",
    "        count += 1\n",
    "count"
   ],
   "metadata": {
    "collapsed": false,
    "pycharm": {
     "name": "#%%\n"
    }
   }
  },
  {
   "cell_type": "code",
   "execution_count": 5,
   "outputs": [
    {
     "data": {
      "text/plain": "2150351"
     },
     "execution_count": 5,
     "metadata": {},
     "output_type": "execute_result"
    }
   ],
   "source": [
    "# Day 2.1\n",
    "\n",
    "f = open(\"2.txt\", \"r\")\n",
    "data = f.readlines()\n",
    "f.close()\n",
    "\n",
    "coordinates = np.array([0,0], dtype=int)\n",
    "for i in range(len(data)):\n",
    "    split = data[i].split(\" \")\n",
    "    if split[0] == \"forward\":\n",
    "        coordinates[0] += int(split[1][:-1])\n",
    "    elif split[0] == \"down\":\n",
    "        coordinates[1] += int(split[1][:-1])\n",
    "    else:\n",
    "        coordinates[1] -= int(split[1][:-1])\n",
    "np.multiply(coordinates[0], coordinates[1])"
   ],
   "metadata": {
    "collapsed": false,
    "pycharm": {
     "name": "#%%\n"
    }
   }
  },
  {
   "cell_type": "code",
   "execution_count": 6,
   "outputs": [
    {
     "data": {
      "text/plain": "1842742223"
     },
     "execution_count": 6,
     "metadata": {},
     "output_type": "execute_result"
    }
   ],
   "source": [
    "# Day 2.2\n",
    "coordinates = np.array([0, 0, 0], dtype=int)\n",
    "for i in range(len(data)):\n",
    "    split = data[i].split(\" \")\n",
    "    if split[0] == \"forward\":\n",
    "        coordinates[0] += int(split[1][:-1])\n",
    "        coordinates[1] += coordinates[2] * int(split[1][:-1])\n",
    "    elif split[0] == \"down\":\n",
    "        coordinates[2] += int(split[1][:-1])\n",
    "    else:\n",
    "        coordinates[2] -= int(split[1][:-1])\n",
    "np.multiply(coordinates[0], coordinates[1])"
   ],
   "metadata": {
    "collapsed": false,
    "pycharm": {
     "name": "#%%\n"
    }
   }
  },
  {
   "cell_type": "code",
   "execution_count": 9,
   "outputs": [
    {
     "data": {
      "text/plain": "775304"
     },
     "execution_count": 9,
     "metadata": {},
     "output_type": "execute_result"
    }
   ],
   "source": [
    "# Day 3.1\n",
    "\n",
    "f = open(\"3.txt\", \"r\")\n",
    "data = f.readlines()\n",
    "f.close()\n",
    "\n",
    "for i in range(len(data)):\n",
    "    data[i] = int(data[i], 2)\n",
    "\n",
    "values = np.array(data, dtype=int)\n",
    "mask = 0b1\n",
    "gamma = 0\n",
    "while mask <= 2048:\n",
    "    count = 0\n",
    "    for v in values:\n",
    "        if v & mask:\n",
    "            count += 1\n",
    "        else:\n",
    "            count -= 1\n",
    "    if count > 0:\n",
    "        gamma += mask\n",
    "    mask <<= 1\n",
    "epsilon = gamma ^ 0b111111111111\n",
    "gamma * epsilon"
   ],
   "metadata": {
    "collapsed": false,
    "pycharm": {
     "name": "#%%\n"
    }
   }
  },
  {
   "cell_type": "code",
   "execution_count": 42,
   "outputs": [
    {
     "data": {
      "text/plain": "1370737.0"
     },
     "execution_count": 42,
     "metadata": {},
     "output_type": "execute_result"
    }
   ],
   "source": [
    "# Day 3.2\n",
    "filtered_values = np.copy(values)\n",
    "mask = 0b100000000000\n",
    "\n",
    "while mask > 0:\n",
    "    count = 0\n",
    "    # indices = np.array(shape=(2,0), dtype=int)\n",
    "    for v in filtered_values:\n",
    "        if int(v) & mask:\n",
    "            count += 1\n",
    "        else:\n",
    "            count -= 1\n",
    "    tmp = np.copy(filtered_values)\n",
    "    filtered_values = np.array([])\n",
    "    if count >= 0:\n",
    "        for v in tmp:\n",
    "            if int(v) & mask:\n",
    "                filtered_values = np.append(filtered_values, v)\n",
    "    else:\n",
    "        for v in tmp:\n",
    "            if not int(v) & mask:\n",
    "                filtered_values = np.append(filtered_values, v)\n",
    "    mask >>= 1\n",
    "    if len(filtered_values) == 1:\n",
    "        break\n",
    "oxygen_gen_rating =  filtered_values[0]\n",
    "\n",
    "filtered_values = np.copy(values)\n",
    "mask = 0b100000000000\n",
    "\n",
    "while mask > 0:\n",
    "    count = 0\n",
    "    # indices = np.array(shape=(2,0), dtype=int)\n",
    "    for v in filtered_values:\n",
    "        if int(v) & mask:\n",
    "            count -= 1\n",
    "        else:\n",
    "            count += 1\n",
    "    tmp = np.copy(filtered_values)\n",
    "    filtered_values = np.array([])\n",
    "    if count > 0:\n",
    "        for v in tmp:\n",
    "            if int(v) & mask:\n",
    "                filtered_values = np.append(filtered_values, v)\n",
    "    else:\n",
    "        for v in tmp:\n",
    "            if not int(v) & mask:\n",
    "                filtered_values = np.append(filtered_values, v)\n",
    "    mask >>= 1\n",
    "    if len(filtered_values) == 1:\n",
    "        break\n",
    "life_supp_rating = filtered_values[0]\n",
    "life_supp_rating * oxygen_gen_rating"
   ],
   "metadata": {
    "collapsed": false,
    "pycharm": {
     "name": "#%%\n"
    }
   }
  },
  {
   "cell_type": "code",
   "execution_count": null,
   "outputs": [],
   "source": [
    "# Day 4.1"
   ],
   "metadata": {
    "collapsed": false,
    "pycharm": {
     "name": "#%%\n"
    }
   }
  }
 ],
 "metadata": {
  "kernelspec": {
   "display_name": "Python 3 (ipykernel)",
   "language": "python",
   "name": "python3"
  },
  "language_info": {
   "codemirror_mode": {
    "name": "ipython",
    "version": 3
   },
   "file_extension": ".py",
   "mimetype": "text/x-python",
   "name": "python",
   "nbconvert_exporter": "python",
   "pygments_lexer": "ipython3",
   "version": "3.9.9"
  }
 },
 "nbformat": 4,
 "nbformat_minor": 1
}